{
 "cells": [
  {
   "cell_type": "code",
   "execution_count": null,
   "id": "b9e6cbee-0ca9-4cdc-9ba3-e1fd61504dc9",
   "metadata": {},
   "outputs": [],
   "source": [
    "import os\n",
    "import cv2\n",
    "import numpy as np\n",
    "from skimage.feature import hog\n",
    "from sklearn.svm import SVC\n",
    "from sklearn.preprocessing import StandardScaler\n",
    "from sklearn.pipeline import make_pipeline\n",
    "from sklearn.metrics import accuracy_score, classification_report"
   ]
  },
  {
   "cell_type": "markdown",
   "id": "9ccaaa27-d85a-410d-9130-adb9eb5f035c",
   "metadata": {},
   "source": [
    " Paths to the dataset"
   ]
  },
  {
   "cell_type": "code",
   "execution_count": null,
   "id": "59e0e493-087a-4603-9b6a-9bede0ecfb9f",
   "metadata": {},
   "outputs": [],
   "source": [
    "train_path = 'C:\\\\Users\\\\sherl\\\\Downloads\\\\archive (6).zip\\\\dogs-vs-cat-small\\\\train'\n",
    "test_path = 'C:\\\\Users\\\\sherl\\\\Downloads\\\\archive (6).zip\\\\dogs-vs-cat-small\\\\test'\n",
    "validation_path = 'C:\\\\Users\\\\sherl\\\\Downloads\\\\archive (6).zip\\\\dogs-vs-cat-small\\\\validation'"
   ]
  },
  {
   "cell_type": "markdown",
   "id": "1430044f-a1ad-4217-a7b0-03cfe5f6a0b3",
   "metadata": {},
   "source": [
    "Image parameters\n"
   ]
  },
  {
   "cell_type": "code",
   "execution_count": null,
   "id": "e0aa64db-fd91-4e64-94e1-f9197cc311ce",
   "metadata": {},
   "outputs": [],
   "source": [
    "img_size = 64"
   ]
  },
  {
   "cell_type": "markdown",
   "id": "7b3fea5f-0e01-4c4d-97a1-8c929be1a795",
   "metadata": {},
   "source": [
    "Function to load and preprocess images"
   ]
  },
  {
   "cell_type": "code",
   "execution_count": null,
   "id": "adea123b-4142-4b16-8173-07a1b3a1c873",
   "metadata": {},
   "outputs": [],
   "source": [
    "def load_images_from_directory(directory, img_size):\n",
    "    images = []\n",
    "    labels = []\n",
    "    for label, category in enumerate(['Cat', 'Dog']):\n",
    "        category_path = os.path.join(directory, category)\n",
    "        for img_name in os.listdir(category_path):\n",
    "            img_path = os.path.join(category_path, img_name)\n",
    "            img = cv2.imread(img_path, cv2.IMREAD_GRAYSCALE)\n",
    "            img = cv2.resize(img, (img_size, img_size))\n",
    "            images.append(img)\n",
    "            labels.append(label)\n",
    "    return np.array(images), np.array(labels)\n"
   ]
  },
  {
   "cell_type": "markdown",
   "id": "1e24d77e-eb93-4579-98ce-1b8c058254b3",
   "metadata": {},
   "source": [
    "Load images from training, testing, and validation sets"
   ]
  },
  {
   "cell_type": "code",
   "execution_count": null,
   "id": "a05a7f48-22a3-4141-aa6d-e4766ed43a91",
   "metadata": {},
   "outputs": [],
   "source": [
    "X_train, y_train = load_images_from_directory(train_path, img_size)\n",
    "X_test, y_test = load_images_from_directory(test_path, img_size)\n",
    "X_val, y_val = load_images_from_directory(validation_path, img_size)"
   ]
  },
  {
   "cell_type": "markdown",
   "id": "427d1680-0a42-459b-98c8-a23bca5ae21c",
   "metadata": {},
   "source": [
    "Function to extract HOG featuresdef extract_hog_features(images):\n",
    "    features = []\n",
    "    for image in images:\n",
    "        feature = hog(image.reshape(img_size, img_size), pixels_per_cell=(8, 8),\n",
    "                      cells_per_block=(2, 2), visualize=False)\n",
    "        features.append(feature)\n",
    "    return np.array(features)\n"
   ]
  },
  {
   "cell_type": "markdown",
   "id": "4e592064-df37-42f6-b569-9756780e9347",
   "metadata": {},
   "source": [
    "Extract HOG features"
   ]
  },
  {
   "cell_type": "code",
   "execution_count": null,
   "id": "802ceb79-de29-42e2-97f2-72d7972275e3",
   "metadata": {},
   "outputs": [],
   "source": [
    "X_train_hog = extract_hog_features(X_train)\n",
    "X_test_hog = extract_hog_features(X_test)\n",
    "X_val_hog = extract_hog_features(X_val)"
   ]
  },
  {
   "cell_type": "markdown",
   "id": "a700fe02-c6d0-4b54-9ae9-8be01a52483b",
   "metadata": {},
   "source": [
    "Standardize the features and train the SVM"
   ]
  },
  {
   "cell_type": "code",
   "execution_count": null,
   "id": "dd135c58-6691-4a28-a355-55a9a3925c71",
   "metadata": {},
   "outputs": [],
   "source": [
    "svm_model = make_pipeline(StandardScaler(), SVC(kernel='linear', C=1.0, random_state=42))\n",
    "svm_model.fit(X_train_hog, y_train)"
   ]
  },
  {
   "cell_type": "markdown",
   "id": "ec16750c-d13f-4916-b530-5c1084f91529",
   "metadata": {},
   "source": [
    "Make predictions on the test set"
   ]
  },
  {
   "cell_type": "code",
   "execution_count": null,
   "id": "d7bd42bd-96d9-4892-9e18-c0ae00d7d8d7",
   "metadata": {},
   "outputs": [],
   "source": [
    "y_test_pred = svm_model.predict(X_test_hog)"
   ]
  },
  {
   "cell_type": "markdown",
   "id": "75128bf9-bca9-4b8b-9103-99215275f392",
   "metadata": {},
   "source": [
    "Evaluate the model on the test set"
   ]
  },
  {
   "cell_type": "code",
   "execution_count": null,
   "id": "c8e0040f-a1e8-48a8-8a70-bc2ad2d2ec04",
   "metadata": {},
   "outputs": [],
   "source": [
    "test_accuracy = accuracy_score(y_test, y_test_pred)\n",
    "test_report = classification_report(y_test, y_test_pred, target_names=['Cat', 'Dog'])\n",
    "\n",
    "print(f'Test Accuracy: {test_accuracy:.4f}')\n",
    "print('Test Classification Report:')\n",
    "print(test_report)"
   ]
  },
  {
   "cell_type": "code",
   "execution_count": null,
   "id": "e46a0113-a4ae-4f17-b039-19cf624b8149",
   "metadata": {},
   "outputs": [],
   "source": [
    "val_accuracy = accuracy_score(y_val, y_val_pred)\n",
    "val_report = classification_report(y_val, y_val_pred, target_names=['Cat', 'Dog'])\n",
    "print(f'Validation Accuracy: {val_accuracy:.4f}')\n",
    "print('Validation Classification Report:')\n",
    "print(val_report)"
   ]
  },
  {
   "cell_type": "code",
   "execution_count": null,
   "id": "e8e4a984-508e-4c2a-bee3-51ea5f910c70",
   "metadata": {},
   "outputs": [],
   "source": []
  }
 ],
 "metadata": {
  "kernelspec": {
   "display_name": "Python 3 (ipykernel)",
   "language": "python",
   "name": "python3"
  },
  "language_info": {
   "codemirror_mode": {
    "name": "ipython",
    "version": 3
   },
   "file_extension": ".py",
   "mimetype": "text/x-python",
   "name": "python",
   "nbconvert_exporter": "python",
   "pygments_lexer": "ipython3",
   "version": "3.11.7"
  }
 },
 "nbformat": 4,
 "nbformat_minor": 5
}
